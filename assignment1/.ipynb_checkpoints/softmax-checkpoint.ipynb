{
 "cells": [
  {
   "cell_type": "markdown",
   "metadata": {},
   "source": [
    "# Softmax exercise\n",
    "\n",
    "*Complete and hand in this completed worksheet (including its outputs and any supporting code outside of the worksheet) with your assignment submission. For more details see the [assignments page](http://vision.stanford.edu/teaching/cs231n/assignments.html) on the course website.*\n",
    "\n",
    "This exercise is analogous to the SVM exercise. You will:\n",
    "\n",
    "- implement a fully-vectorized **loss function** for the Softmax classifier\n",
    "- implement the fully-vectorized expression for its **analytic gradient**\n",
    "- **check your implementation** with numerical gradient\n",
    "- use a validation set to **tune the learning rate and regularization** strength\n",
    "- **optimize** the loss function with **SGD**\n",
    "- **visualize** the final learned weights\n"
   ]
  },
  {
   "cell_type": "code",
   "execution_count": 2,
   "metadata": {},
   "outputs": [],
   "source": [
    "import random\n",
    "import numpy as np\n",
    "from cs231n.data_utils import load_CIFAR10\n",
    "import matplotlib.pyplot as plt\n",
    "\n",
    "from __future__ import print_function\n",
    "\n",
    "%matplotlib inline\n",
    "plt.rcParams['figure.figsize'] = (10.0, 8.0) # set default size of plots\n",
    "plt.rcParams['image.interpolation'] = 'nearest'\n",
    "plt.rcParams['image.cmap'] = 'gray'\n",
    "\n",
    "# for auto-reloading extenrnal modules\n",
    "# see http://stackoverflow.com/questions/1907993/autoreload-of-modules-in-ipython\n",
    "%load_ext autoreload\n",
    "%autoreload 2"
   ]
  },
  {
   "cell_type": "code",
   "execution_count": 3,
   "metadata": {},
   "outputs": [
    {
     "name": "stdout",
     "output_type": "stream",
     "text": [
      "Train data shape:  (49000, 3073)\n",
      "Train labels shape:  (49000,)\n",
      "Validation data shape:  (1000, 3073)\n",
      "Validation labels shape:  (1000,)\n",
      "Test data shape:  (1000, 3073)\n",
      "Test labels shape:  (1000,)\n",
      "dev data shape:  (500, 3073)\n",
      "dev labels shape:  (500,)\n"
     ]
    }
   ],
   "source": [
    "def get_CIFAR10_data(num_training=49000, num_validation=1000, num_test=1000, num_dev=500):\n",
    "    \"\"\"\n",
    "    Load the CIFAR-10 dataset from disk and perform preprocessing to prepare\n",
    "    it for the linear classifier. These are the same steps as we used for the\n",
    "    SVM, but condensed to a single function.  \n",
    "    \"\"\"\n",
    "    # Load the raw CIFAR-10 data\n",
    "    cifar10_dir = 'cs231n/datasets/cifar-10-batches-py'\n",
    "    X_train, y_train, X_test, y_test = load_CIFAR10(cifar10_dir)\n",
    "    \n",
    "    # subsample the data\n",
    "    mask = list(range(num_training, num_training + num_validation))\n",
    "    X_val = X_train[mask]\n",
    "    y_val = y_train[mask]\n",
    "    mask = list(range(num_training))\n",
    "    X_train = X_train[mask]\n",
    "    y_train = y_train[mask]\n",
    "    mask = list(range(num_test))\n",
    "    X_test = X_test[mask]\n",
    "    y_test = y_test[mask]\n",
    "    mask = np.random.choice(num_training, num_dev, replace=False)\n",
    "    X_dev = X_train[mask]\n",
    "    y_dev = y_train[mask]\n",
    "    \n",
    "    # Preprocessing: reshape the image data into rows\n",
    "    X_train = np.reshape(X_train, (X_train.shape[0], -1))\n",
    "    X_val = np.reshape(X_val, (X_val.shape[0], -1))\n",
    "    X_test = np.reshape(X_test, (X_test.shape[0], -1))\n",
    "    X_dev = np.reshape(X_dev, (X_dev.shape[0], -1))\n",
    "    \n",
    "    # Normalize the data: subtract the mean image\n",
    "    mean_image = np.mean(X_train, axis = 0)\n",
    "    X_train -= mean_image\n",
    "    X_val -= mean_image\n",
    "    X_test -= mean_image\n",
    "    X_dev -= mean_image\n",
    "    \n",
    "    # add bias dimension and transform into columns\n",
    "    X_train = np.hstack([X_train, np.ones((X_train.shape[0], 1))])\n",
    "    X_val = np.hstack([X_val, np.ones((X_val.shape[0], 1))])\n",
    "    X_test = np.hstack([X_test, np.ones((X_test.shape[0], 1))])\n",
    "    X_dev = np.hstack([X_dev, np.ones((X_dev.shape[0], 1))])\n",
    "    \n",
    "    return X_train, y_train, X_val, y_val, X_test, y_test, X_dev, y_dev\n",
    "\n",
    "\n",
    "# Invoke the above function to get our data.\n",
    "X_train, y_train, X_val, y_val, X_test, y_test, X_dev, y_dev = get_CIFAR10_data()\n",
    "print('Train data shape: ', X_train.shape)\n",
    "print('Train labels shape: ', y_train.shape)\n",
    "print('Validation data shape: ', X_val.shape)\n",
    "print('Validation labels shape: ', y_val.shape)\n",
    "print('Test data shape: ', X_test.shape)\n",
    "print('Test labels shape: ', y_test.shape)\n",
    "print('dev data shape: ', X_dev.shape)\n",
    "print('dev labels shape: ', y_dev.shape)"
   ]
  },
  {
   "cell_type": "markdown",
   "metadata": {},
   "source": [
    "## Softmax Classifier\n",
    "\n",
    "Your code for this section will all be written inside **cs231n/classifiers/softmax.py**. \n"
   ]
  },
  {
   "cell_type": "code",
   "execution_count": 4,
   "metadata": {},
   "outputs": [
    {
     "name": "stdout",
     "output_type": "stream",
     "text": [
      "loss: 2.292017\n",
      "sanity check: 2.302585\n"
     ]
    }
   ],
   "source": [
    "# First implement the naive softmax loss function with nested loops.\n",
    "# Open the file cs231n/classifiers/softmax.py and implement the\n",
    "# softmax_loss_naive function.\n",
    "\n",
    "from cs231n.classifiers.softmax import softmax_loss_naive\n",
    "import time\n",
    "\n",
    "# Generate a random softmax weight matrix and use it to compute the loss.\n",
    "W = np.random.randn(3073, 10) * 0.0001\n",
    "loss, grad = softmax_loss_naive(W, X_dev, y_dev, 0.0)\n",
    "\n",
    "# As a rough sanity check, our loss should be something close to -log(0.1).\n",
    "print('loss: %f' % loss)\n",
    "print('sanity check: %f' % (-np.log(0.1)))"
   ]
  },
  {
   "cell_type": "markdown",
   "metadata": {},
   "source": [
    "## Inline Question 1:\n",
    "Why do we expect our loss to be close to -log(0.1)? Explain briefly.**\n",
    "\n",
    "**Your answer:** *We have 10 classes, so the probability of one image being each class, on average is 0.1, thus the log of this average probability is -log(0.1)*\n"
   ]
  },
  {
   "cell_type": "code",
   "execution_count": 5,
   "metadata": {},
   "outputs": [
    {
     "name": "stdout",
     "output_type": "stream",
     "text": [
      "numerical: 2.014926 analytic: 2.014926, relative error: 2.202424e-08\n",
      "numerical: 1.184631 analytic: 1.184631, relative error: 3.719557e-08\n",
      "numerical: -2.200435 analytic: -2.200435, relative error: 8.263234e-09\n",
      "numerical: -0.099885 analytic: -0.099885, relative error: 4.010548e-07\n",
      "numerical: 2.952192 analytic: 2.952192, relative error: 1.492140e-08\n",
      "numerical: 0.899886 analytic: 0.899886, relative error: 1.775489e-08\n",
      "numerical: 1.118583 analytic: 1.118583, relative error: 5.657278e-08\n",
      "numerical: -0.506506 analytic: -0.506506, relative error: 2.678577e-08\n",
      "numerical: -1.982314 analytic: -1.982314, relative error: 2.073706e-08\n",
      "numerical: -2.640758 analytic: -2.640758, relative error: 3.679236e-09\n",
      "numerical: 1.398444 analytic: 1.395325, relative error: 1.116409e-03\n",
      "numerical: 0.306884 analytic: 0.299097, relative error: 1.285143e-02\n",
      "numerical: 1.379010 analytic: 1.372392, relative error: 2.405438e-03\n",
      "numerical: -1.785008 analytic: -1.789567, relative error: 1.275509e-03\n",
      "numerical: -2.639595 analytic: -2.635209, relative error: 8.315641e-04\n",
      "numerical: -0.353077 analytic: -0.351924, relative error: 1.635115e-03\n",
      "numerical: -0.455330 analytic: -0.447494, relative error: 8.679465e-03\n",
      "numerical: -0.057163 analytic: -0.055425, relative error: 1.543835e-02\n",
      "numerical: -1.172500 analytic: -1.158964, relative error: 5.805789e-03\n",
      "numerical: -1.376192 analytic: -1.375212, relative error: 3.562090e-04\n"
     ]
    }
   ],
   "source": [
    "# Complete the implementation of softmax_loss_naive and implement a (naive)\n",
    "# version of the gradient that uses nested loops.\n",
    "loss, grad = softmax_loss_naive(W, X_dev, y_dev, 0.0)\n",
    "\n",
    "# As we did for the SVM, use numeric gradient checking as a debugging tool.\n",
    "# The numeric gradient should be close to the analytic gradient.\n",
    "from cs231n.gradient_check import grad_check_sparse\n",
    "f = lambda w: softmax_loss_naive(w, X_dev, y_dev, 0.0)[0]\n",
    "grad_numerical = grad_check_sparse(f, W, grad, 10)\n",
    "\n",
    "# similar to SVM case, do another gradient check with regularization\n",
    "loss, grad = softmax_loss_naive(W, X_dev, y_dev, 5e1)\n",
    "f = lambda w: softmax_loss_naive(w, X_dev, y_dev, 5e1)[0]\n",
    "grad_numerical = grad_check_sparse(f, W, grad, 10)"
   ]
  },
  {
   "cell_type": "code",
   "execution_count": 6,
   "metadata": {},
   "outputs": [
    {
     "name": "stdout",
     "output_type": "stream",
     "text": [
      "naive loss: 2.292017e+00 computed in 0.286998s\n",
      "vectorized loss: 2.292017e+00 computed in 0.010339s\n",
      "Loss difference: 0.000000\n",
      "Gradient difference: 0.000000\n"
     ]
    }
   ],
   "source": [
    "# Now that we have a naive implementation of the softmax loss function and its gradient,\n",
    "# implement a vectorized version in softmax_loss_vectorized.\n",
    "# The two versions should compute the same results, but the vectorized version should be\n",
    "# much faster.\n",
    "tic = time.time()\n",
    "loss_naive, grad_naive = softmax_loss_naive(W, X_dev, y_dev, 0.000005)\n",
    "toc = time.time()\n",
    "print('naive loss: %e computed in %fs' % (loss_naive, toc - tic))\n",
    "\n",
    "from cs231n.classifiers.softmax import softmax_loss_vectorized\n",
    "tic = time.time()\n",
    "loss_vectorized, grad_vectorized = softmax_loss_vectorized(W, X_dev, y_dev, 0.000005)\n",
    "toc = time.time()\n",
    "print('vectorized loss: %e computed in %fs' % (loss_vectorized, toc - tic))\n",
    "\n",
    "# As we did for the SVM, we use the Frobenius norm to compare the two versions\n",
    "# of the gradient.\n",
    "grad_difference = np.linalg.norm(grad_naive - grad_vectorized, ord='fro')\n",
    "print('Loss difference: %f' % np.abs(loss_naive - loss_vectorized))\n",
    "print('Gradient difference: %f' % grad_difference)"
   ]
  },
  {
   "cell_type": "code",
   "execution_count": 7,
   "metadata": {},
   "outputs": [
    {
     "name": "stdout",
     "output_type": "stream",
     "text": [
      "best_lr,best_rs,best_val 4.55555555556e-07 50000.0 0.381\n",
      "lr 1.000000e-07 reg 2.500000e+04 train accuracy: 0.304898 val accuracy: 0.286000\n",
      "lr 1.000000e-07 reg 2.777778e+04 train accuracy: 0.304388 val accuracy: 0.307000\n",
      "lr 1.000000e-07 reg 3.055556e+04 train accuracy: 0.301571 val accuracy: 0.324000\n",
      "lr 1.000000e-07 reg 3.333333e+04 train accuracy: 0.302143 val accuracy: 0.296000\n",
      "lr 1.000000e-07 reg 3.611111e+04 train accuracy: 0.302041 val accuracy: 0.286000\n",
      "lr 1.000000e-07 reg 3.888889e+04 train accuracy: 0.297816 val accuracy: 0.306000\n",
      "lr 1.000000e-07 reg 4.166667e+04 train accuracy: 0.297408 val accuracy: 0.319000\n",
      "lr 1.000000e-07 reg 4.444444e+04 train accuracy: 0.302408 val accuracy: 0.291000\n",
      "lr 1.000000e-07 reg 4.722222e+04 train accuracy: 0.299837 val accuracy: 0.293000\n",
      "lr 1.000000e-07 reg 5.000000e+04 train accuracy: 0.298245 val accuracy: 0.295000\n",
      "lr 1.444444e-07 reg 2.500000e+04 train accuracy: 0.314224 val accuracy: 0.309000\n",
      "lr 1.444444e-07 reg 2.777778e+04 train accuracy: 0.314755 val accuracy: 0.318000\n",
      "lr 1.444444e-07 reg 3.055556e+04 train accuracy: 0.314939 val accuracy: 0.328000\n",
      "lr 1.444444e-07 reg 3.333333e+04 train accuracy: 0.316837 val accuracy: 0.315000\n",
      "lr 1.444444e-07 reg 3.611111e+04 train accuracy: 0.318796 val accuracy: 0.306000\n",
      "lr 1.444444e-07 reg 3.888889e+04 train accuracy: 0.315939 val accuracy: 0.321000\n",
      "lr 1.444444e-07 reg 4.166667e+04 train accuracy: 0.317367 val accuracy: 0.319000\n",
      "lr 1.444444e-07 reg 4.444444e+04 train accuracy: 0.316469 val accuracy: 0.327000\n",
      "lr 1.444444e-07 reg 4.722222e+04 train accuracy: 0.318837 val accuracy: 0.323000\n",
      "lr 1.444444e-07 reg 5.000000e+04 train accuracy: 0.322796 val accuracy: 0.329000\n",
      "lr 1.888889e-07 reg 2.500000e+04 train accuracy: 0.328714 val accuracy: 0.341000\n",
      "lr 1.888889e-07 reg 2.777778e+04 train accuracy: 0.329980 val accuracy: 0.341000\n",
      "lr 1.888889e-07 reg 3.055556e+04 train accuracy: 0.326449 val accuracy: 0.331000\n",
      "lr 1.888889e-07 reg 3.333333e+04 train accuracy: 0.328816 val accuracy: 0.323000\n",
      "lr 1.888889e-07 reg 3.611111e+04 train accuracy: 0.324041 val accuracy: 0.345000\n",
      "lr 1.888889e-07 reg 3.888889e+04 train accuracy: 0.328122 val accuracy: 0.328000\n",
      "lr 1.888889e-07 reg 4.166667e+04 train accuracy: 0.329163 val accuracy: 0.318000\n",
      "lr 1.888889e-07 reg 4.444444e+04 train accuracy: 0.321898 val accuracy: 0.322000\n",
      "lr 1.888889e-07 reg 4.722222e+04 train accuracy: 0.324510 val accuracy: 0.335000\n",
      "lr 1.888889e-07 reg 5.000000e+04 train accuracy: 0.328367 val accuracy: 0.326000\n",
      "lr 2.333333e-07 reg 2.500000e+04 train accuracy: 0.338367 val accuracy: 0.349000\n",
      "lr 2.333333e-07 reg 2.777778e+04 train accuracy: 0.338592 val accuracy: 0.339000\n",
      "lr 2.333333e-07 reg 3.055556e+04 train accuracy: 0.338245 val accuracy: 0.335000\n",
      "lr 2.333333e-07 reg 3.333333e+04 train accuracy: 0.338000 val accuracy: 0.332000\n",
      "lr 2.333333e-07 reg 3.611111e+04 train accuracy: 0.334184 val accuracy: 0.327000\n",
      "lr 2.333333e-07 reg 3.888889e+04 train accuracy: 0.340143 val accuracy: 0.329000\n",
      "lr 2.333333e-07 reg 4.166667e+04 train accuracy: 0.335510 val accuracy: 0.331000\n",
      "lr 2.333333e-07 reg 4.444444e+04 train accuracy: 0.334061 val accuracy: 0.317000\n",
      "lr 2.333333e-07 reg 4.722222e+04 train accuracy: 0.339184 val accuracy: 0.329000\n",
      "lr 2.333333e-07 reg 5.000000e+04 train accuracy: 0.337469 val accuracy: 0.340000\n",
      "lr 2.777778e-07 reg 2.500000e+04 train accuracy: 0.347449 val accuracy: 0.336000\n",
      "lr 2.777778e-07 reg 2.777778e+04 train accuracy: 0.343878 val accuracy: 0.336000\n",
      "lr 2.777778e-07 reg 3.055556e+04 train accuracy: 0.348082 val accuracy: 0.342000\n",
      "lr 2.777778e-07 reg 3.333333e+04 train accuracy: 0.344041 val accuracy: 0.358000\n",
      "lr 2.777778e-07 reg 3.611111e+04 train accuracy: 0.345347 val accuracy: 0.357000\n",
      "lr 2.777778e-07 reg 3.888889e+04 train accuracy: 0.344959 val accuracy: 0.318000\n",
      "lr 2.777778e-07 reg 4.166667e+04 train accuracy: 0.348286 val accuracy: 0.339000\n",
      "lr 2.777778e-07 reg 4.444444e+04 train accuracy: 0.346653 val accuracy: 0.341000\n",
      "lr 2.777778e-07 reg 4.722222e+04 train accuracy: 0.347163 val accuracy: 0.353000\n",
      "lr 2.777778e-07 reg 5.000000e+04 train accuracy: 0.347367 val accuracy: 0.340000\n",
      "lr 3.222222e-07 reg 2.500000e+04 train accuracy: 0.355224 val accuracy: 0.363000\n",
      "lr 3.222222e-07 reg 2.777778e+04 train accuracy: 0.347510 val accuracy: 0.345000\n",
      "lr 3.222222e-07 reg 3.055556e+04 train accuracy: 0.352653 val accuracy: 0.344000\n",
      "lr 3.222222e-07 reg 3.333333e+04 train accuracy: 0.354776 val accuracy: 0.353000\n",
      "lr 3.222222e-07 reg 3.611111e+04 train accuracy: 0.354571 val accuracy: 0.362000\n",
      "lr 3.222222e-07 reg 3.888889e+04 train accuracy: 0.347347 val accuracy: 0.366000\n",
      "lr 3.222222e-07 reg 4.166667e+04 train accuracy: 0.355980 val accuracy: 0.351000\n",
      "lr 3.222222e-07 reg 4.444444e+04 train accuracy: 0.349939 val accuracy: 0.331000\n",
      "lr 3.222222e-07 reg 4.722222e+04 train accuracy: 0.353918 val accuracy: 0.345000\n",
      "lr 3.222222e-07 reg 5.000000e+04 train accuracy: 0.353245 val accuracy: 0.348000\n",
      "lr 3.666667e-07 reg 2.500000e+04 train accuracy: 0.360408 val accuracy: 0.348000\n",
      "lr 3.666667e-07 reg 2.777778e+04 train accuracy: 0.358551 val accuracy: 0.362000\n",
      "lr 3.666667e-07 reg 3.055556e+04 train accuracy: 0.357469 val accuracy: 0.326000\n",
      "lr 3.666667e-07 reg 3.333333e+04 train accuracy: 0.357673 val accuracy: 0.365000\n",
      "lr 3.666667e-07 reg 3.611111e+04 train accuracy: 0.359673 val accuracy: 0.336000\n",
      "lr 3.666667e-07 reg 3.888889e+04 train accuracy: 0.357000 val accuracy: 0.348000\n",
      "lr 3.666667e-07 reg 4.166667e+04 train accuracy: 0.360571 val accuracy: 0.352000\n",
      "lr 3.666667e-07 reg 4.444444e+04 train accuracy: 0.360367 val accuracy: 0.350000\n",
      "lr 3.666667e-07 reg 4.722222e+04 train accuracy: 0.356347 val accuracy: 0.333000\n",
      "lr 3.666667e-07 reg 5.000000e+04 train accuracy: 0.359551 val accuracy: 0.362000\n",
      "lr 4.111111e-07 reg 2.500000e+04 train accuracy: 0.360122 val accuracy: 0.365000\n",
      "lr 4.111111e-07 reg 2.777778e+04 train accuracy: 0.364490 val accuracy: 0.361000\n",
      "lr 4.111111e-07 reg 3.055556e+04 train accuracy: 0.363102 val accuracy: 0.355000\n",
      "lr 4.111111e-07 reg 3.333333e+04 train accuracy: 0.366633 val accuracy: 0.363000\n",
      "lr 4.111111e-07 reg 3.611111e+04 train accuracy: 0.365429 val accuracy: 0.337000\n",
      "lr 4.111111e-07 reg 3.888889e+04 train accuracy: 0.365878 val accuracy: 0.341000\n",
      "lr 4.111111e-07 reg 4.166667e+04 train accuracy: 0.362245 val accuracy: 0.340000\n",
      "lr 4.111111e-07 reg 4.444444e+04 train accuracy: 0.362837 val accuracy: 0.348000\n",
      "lr 4.111111e-07 reg 4.722222e+04 train accuracy: 0.364735 val accuracy: 0.357000\n",
      "lr 4.111111e-07 reg 5.000000e+04 train accuracy: 0.363531 val accuracy: 0.376000\n",
      "lr 4.555556e-07 reg 2.500000e+04 train accuracy: 0.363490 val accuracy: 0.352000\n",
      "lr 4.555556e-07 reg 2.777778e+04 train accuracy: 0.364694 val accuracy: 0.365000\n",
      "lr 4.555556e-07 reg 3.055556e+04 train accuracy: 0.365694 val accuracy: 0.360000\n",
      "lr 4.555556e-07 reg 3.333333e+04 train accuracy: 0.370531 val accuracy: 0.357000\n",
      "lr 4.555556e-07 reg 3.611111e+04 train accuracy: 0.366531 val accuracy: 0.361000\n",
      "lr 4.555556e-07 reg 3.888889e+04 train accuracy: 0.366776 val accuracy: 0.361000\n",
      "lr 4.555556e-07 reg 4.166667e+04 train accuracy: 0.363510 val accuracy: 0.344000\n",
      "lr 4.555556e-07 reg 4.444444e+04 train accuracy: 0.368306 val accuracy: 0.335000\n",
      "lr 4.555556e-07 reg 4.722222e+04 train accuracy: 0.368571 val accuracy: 0.343000\n",
      "lr 4.555556e-07 reg 5.000000e+04 train accuracy: 0.367796 val accuracy: 0.381000\n",
      "lr 5.000000e-07 reg 2.500000e+04 train accuracy: 0.373469 val accuracy: 0.367000\n",
      "lr 5.000000e-07 reg 2.777778e+04 train accuracy: 0.367592 val accuracy: 0.353000\n",
      "lr 5.000000e-07 reg 3.055556e+04 train accuracy: 0.369633 val accuracy: 0.361000\n",
      "lr 5.000000e-07 reg 3.333333e+04 train accuracy: 0.376571 val accuracy: 0.374000\n",
      "lr 5.000000e-07 reg 3.611111e+04 train accuracy: 0.369347 val accuracy: 0.338000\n",
      "lr 5.000000e-07 reg 3.888889e+04 train accuracy: 0.373286 val accuracy: 0.373000\n",
      "lr 5.000000e-07 reg 4.166667e+04 train accuracy: 0.372082 val accuracy: 0.370000\n",
      "lr 5.000000e-07 reg 4.444444e+04 train accuracy: 0.369061 val accuracy: 0.358000\n",
      "lr 5.000000e-07 reg 4.722222e+04 train accuracy: 0.374673 val accuracy: 0.356000\n",
      "lr 5.000000e-07 reg 5.000000e+04 train accuracy: 0.372918 val accuracy: 0.378000\n",
      "best validation accuracy achieved during cross-validation: 0.381000\n"
     ]
    }
   ],
   "source": [
    "# Use the validation set to tune hyperparameters (regularization strength and\n",
    "# learning rate). You should experiment with different ranges for the learning\n",
    "# rates and regularization strengths; if you are careful you should be able to\n",
    "# get a classification accuracy of over 0.35 on the validation set.\n",
    "from cs231n.classifiers import Softmax\n",
    "results = {}\n",
    "best_val = -1\n",
    "best_softmax = None\n",
    "learning_rates = [3e-7, 5e-7]\n",
    "regularization_strengths = [2.5e4, 5e4]\n",
    "\n",
    "################################################################################\n",
    "# TODO:                                                                        #\n",
    "# Use the validation set to set the learning rate and regularization strength. #\n",
    "# This should be identical to the validation that you did for the softmax; save    #\n",
    "# the best trained softmax classifer in best_softmax.                          #\n",
    "################################################################################\n",
    "lr_vals = np.linspace(learning_rates[0], learning_rates[1], num=10, endpoint=True)\n",
    "rs_vals = np.linspace(regularization_strengths[0], regularization_strengths[1], num=10, endpoint=True)\n",
    "#rs_vals = np.linspace(np.log(regularization_strengths[0]),np.log(regularization_strengths[1]), num=10, endpoint=True)\n",
    "#rs_vals = np.exp(rs_vals)\n",
    "#print(lr_vals)\n",
    "#print(rs_vals)\n",
    "nit_small = 5000\n",
    "nit_large = 1*nit_small\n",
    "for lr in lr_vals:\n",
    "    for rs in rs_vals:\n",
    "        softmax = Softmax()\n",
    "        loss_hist = softmax.train(X_train, y_train, learning_rate=lr, reg=rs,\n",
    "                      num_iters=nit_small, verbose=False)\n",
    "        y_train_pred = softmax.predict(X_train)\n",
    "        trn_acc = np.mean(y_train == y_train_pred)\n",
    "        y_val_pred = softmax.predict(X_val)\n",
    "        val_acc = np.mean(y_val == y_val_pred)\n",
    "        results[(lr, rs)] = (trn_acc, val_acc)\n",
    "        if val_acc > best_val:\n",
    "            best_val = val_acc\n",
    "            best_softmax = softmax\n",
    "            best_lr = lr\n",
    "            best_rs = rs\n",
    "\n",
    "print(\"best_lr,best_rs,best_val\", best_lr, best_rs, best_val)\n",
    "#pass\n",
    "################################################################################\n",
    "#                              END OF YOUR CODE                                #\n",
    "################################################################################\n",
    "    \n",
    "# Print out results.\n",
    "for lr, reg in sorted(results):\n",
    "    train_accuracy, val_accuracy = results[(lr, reg)]\n",
    "    print('lr %e reg %e train accuracy: %f val accuracy: %f' % (\n",
    "                lr, reg, train_accuracy, val_accuracy))\n",
    "    \n",
    "print('best validation accuracy achieved during cross-validation: %f' % best_val)"
   ]
  },
  {
   "cell_type": "code",
   "execution_count": 8,
   "metadata": {},
   "outputs": [
    {
     "name": "stdout",
     "output_type": "stream",
     "text": [
      "softmax on raw pixels final test set accuracy: 0.360000\n"
     ]
    }
   ],
   "source": [
    "# evaluate on test set\n",
    "# Evaluate the best softmax on test set\n",
    "y_test_pred = best_softmax.predict(X_test)\n",
    "test_accuracy = np.mean(y_test == y_test_pred)\n",
    "print('softmax on raw pixels final test set accuracy: %f' % (test_accuracy, ))"
   ]
  },
  {
   "cell_type": "code",
   "execution_count": 9,
   "metadata": {},
   "outputs": [
    {
     "data": {
      "image/png": "[encoded data removed]",
      "text/plain": [
       "<matplotlib.figure.Figure at 0x7f7e3bfb9510>"
      ]
     },
     "metadata": {},
     "output_type": "display_data"
    }
   ],
   "source": [
    "# Visualize the learned weights for each class\n",
    "w = best_softmax.W[:-1,:] # strip out the bias\n",
    "w = w.reshape(32, 32, 3, 10)\n",
    "\n",
    "w_min, w_max = np.min(w), np.max(w)\n",
    "\n",
    "classes = ['plane', 'car', 'bird', 'cat', 'deer', 'dog', 'frog', 'horse', 'ship', 'truck']\n",
    "for i in range(10):\n",
    "    plt.subplot(2, 5, i + 1)\n",
    "    \n",
    "    # Rescale the weights to be between 0 and 255\n",
    "    wimg = 255.0 * (w[:, :, :, i].squeeze() - w_min) / (w_max - w_min)\n",
    "    plt.imshow(wimg.astype('uint8'))\n",
    "    plt.axis('off')\n",
    "    plt.title(classes[i])"
   ]
  },
  {
   "cell_type": "code",
   "execution_count": null,
   "metadata": {
    "collapsed": true
   },
   "outputs": [],
   "source": []
  }
 ],
 "metadata": {
  "kernelspec": {
   "display_name": "Python 2",
   "language": "python",
   "name": "python2"
  },
  "language_info": {
   "codemirror_mode": {
    "name": "ipython",
    "version": 2
   },
   "file_extension": ".py",
   "mimetype": "text/x-python",
   "name": "python",
   "nbconvert_exporter": "python",
   "pygments_lexer": "ipython2",
   "version": "2.7.14"
  }
 },
 "nbformat": 4,
 "nbformat_minor": 1
}
