{
 "cells": [
  {
   "cell_type": "markdown",
   "metadata": {},
   "source": [
    "# Softmax exercise\n",
    "\n",
    "*Complete and hand in this completed worksheet (including its outputs and any supporting code outside of the worksheet) with your assignment submission. For more details see the [assignments page](http://vision.stanford.edu/teaching/cs231n/assignments.html) on the course website.*\n",
    "\n",
    "This exercise is analogous to the SVM exercise. You will:\n",
    "\n",
    "- implement a fully-vectorized **loss function** for the Softmax classifier\n",
    "- implement the fully-vectorized expression for its **analytic gradient**\n",
    "- **check your implementation** with numerical gradient\n",
    "- use a validation set to **tune the learning rate and regularization** strength\n",
    "- **optimize** the loss function with **SGD**\n",
    "- **visualize** the final learned weights\n"
   ]
  },
  {
   "cell_type": "code",
   "execution_count": 12,
   "metadata": {},
   "outputs": [
    {
     "name": "stdout",
     "output_type": "stream",
     "text": [
      "The autoreload extension is already loaded. To reload it, use:\n",
      "  %reload_ext autoreload\n"
     ]
    }
   ],
   "source": [
    "import random\n",
    "import numpy as np\n",
    "from cs231n.data_utils import load_CIFAR10\n",
    "import matplotlib.pyplot as plt\n",
    "\n",
    "from __future__ import print_function\n",
    "\n",
    "%matplotlib inline\n",
    "plt.rcParams['figure.figsize'] = (10.0, 8.0) # set default size of plots\n",
    "plt.rcParams['image.interpolation'] = 'nearest'\n",
    "plt.rcParams['image.cmap'] = 'gray'\n",
    "\n",
    "# for auto-reloading extenrnal modules\n",
    "# see http://stackoverflow.com/questions/1907993/autoreload-of-modules-in-ipython\n",
    "%load_ext autoreload\n",
    "%autoreload 2"
   ]
  },
  {
   "cell_type": "code",
   "execution_count": 13,
   "metadata": {},
   "outputs": [
    {
     "name": "stdout",
     "output_type": "stream",
     "text": [
      "Train data shape:  (49000, 3073)\n",
      "Train labels shape:  (49000,)\n",
      "Validation data shape:  (1000, 3073)\n",
      "Validation labels shape:  (1000,)\n",
      "Test data shape:  (1000, 3073)\n",
      "Test labels shape:  (1000,)\n",
      "dev data shape:  (500, 3073)\n",
      "dev labels shape:  (500,)\n"
     ]
    }
   ],
   "source": [
    "def get_CIFAR10_data(num_training=49000, num_validation=1000, num_test=1000, num_dev=500):\n",
    "    \"\"\"\n",
    "    Load the CIFAR-10 dataset from disk and perform preprocessing to prepare\n",
    "    it for the linear classifier. These are the same steps as we used for the\n",
    "    SVM, but condensed to a single function.  \n",
    "    \"\"\"\n",
    "    # Load the raw CIFAR-10 data\n",
    "    cifar10_dir = 'cs231n/datasets/cifar-10-batches-py'\n",
    "    X_train, y_train, X_test, y_test = load_CIFAR10(cifar10_dir)\n",
    "    \n",
    "    # subsample the data\n",
    "    mask = list(range(num_training, num_training + num_validation))\n",
    "    X_val = X_train[mask]\n",
    "    y_val = y_train[mask]\n",
    "    mask = list(range(num_training))\n",
    "    X_train = X_train[mask]\n",
    "    y_train = y_train[mask]\n",
    "    mask = list(range(num_test))\n",
    "    X_test = X_test[mask]\n",
    "    y_test = y_test[mask]\n",
    "    mask = np.random.choice(num_training, num_dev, replace=False)\n",
    "    X_dev = X_train[mask]\n",
    "    y_dev = y_train[mask]\n",
    "    \n",
    "    # Preprocessing: reshape the image data into rows\n",
    "    X_train = np.reshape(X_train, (X_train.shape[0], -1))\n",
    "    X_val = np.reshape(X_val, (X_val.shape[0], -1))\n",
    "    X_test = np.reshape(X_test, (X_test.shape[0], -1))\n",
    "    X_dev = np.reshape(X_dev, (X_dev.shape[0], -1))\n",
    "    \n",
    "    # Normalize the data: subtract the mean image\n",
    "    mean_image = np.mean(X_train, axis = 0)\n",
    "    X_train -= mean_image\n",
    "    X_val -= mean_image\n",
    "    X_test -= mean_image\n",
    "    X_dev -= mean_image\n",
    "    \n",
    "    # add bias dimension and transform into columns\n",
    "    X_train = np.hstack([X_train, np.ones((X_train.shape[0], 1))])\n",
    "    X_val = np.hstack([X_val, np.ones((X_val.shape[0], 1))])\n",
    "    X_test = np.hstack([X_test, np.ones((X_test.shape[0], 1))])\n",
    "    X_dev = np.hstack([X_dev, np.ones((X_dev.shape[0], 1))])\n",
    "    \n",
    "    return X_train, y_train, X_val, y_val, X_test, y_test, X_dev, y_dev\n",
    "\n",
    "\n",
    "# Invoke the above function to get our data.\n",
    "X_train, y_train, X_val, y_val, X_test, y_test, X_dev, y_dev = get_CIFAR10_data()\n",
    "print('Train data shape: ', X_train.shape)\n",
    "print('Train labels shape: ', y_train.shape)\n",
    "print('Validation data shape: ', X_val.shape)\n",
    "print('Validation labels shape: ', y_val.shape)\n",
    "print('Test data shape: ', X_test.shape)\n",
    "print('Test labels shape: ', y_test.shape)\n",
    "print('dev data shape: ', X_dev.shape)\n",
    "print('dev labels shape: ', y_dev.shape)"
   ]
  },
  {
   "cell_type": "markdown",
   "metadata": {},
   "source": [
    "## Softmax Classifier\n",
    "\n",
    "Your code for this section will all be written inside **cs231n/classifiers/softmax.py**. \n"
   ]
  },
  {
   "cell_type": "code",
   "execution_count": 14,
   "metadata": {},
   "outputs": [
    {
     "name": "stdout",
     "output_type": "stream",
     "text": [
      "loss: 2.415738\n",
      "sanity check: 2.302585\n"
     ]
    }
   ],
   "source": [
    "# First implement the naive softmax loss function with nested loops.\n",
    "# Open the file cs231n/classifiers/softmax.py and implement the\n",
    "# softmax_loss_naive function.\n",
    "\n",
    "from cs231n.classifiers.softmax import softmax_loss_naive\n",
    "import time\n",
    "\n",
    "# Generate a random softmax weight matrix and use it to compute the loss.\n",
    "W = np.random.randn(3073, 10) * 0.0001\n",
    "loss, grad = softmax_loss_naive(W, X_dev, y_dev, 0.0)\n",
    "\n",
    "# As a rough sanity check, our loss should be something close to -log(0.1).\n",
    "print('loss: %f' % loss)\n",
    "print('sanity check: %f' % (-np.log(0.1)))"
   ]
  },
  {
   "cell_type": "markdown",
   "metadata": {},
   "source": [
    "## Inline Question 1:\n",
    "Why do we expect our loss to be close to -log(0.1)? Explain briefly.**\n",
    "\n",
    "**Your answer:** *We have 10 classes, so the probability of one image being each class, on average is 0.1, thus the log of this average probability is -log(0.1)*\n"
   ]
  },
  {
   "cell_type": "code",
   "execution_count": 15,
   "metadata": {},
   "outputs": [
    {
     "name": "stdout",
     "output_type": "stream",
     "text": [
      "numerical: 0.930967 analytic: 0.930967, relative error: 2.084611e-08\n",
      "numerical: 0.451473 analytic: 0.451473, relative error: 1.573809e-07\n",
      "numerical: 1.301526 analytic: 1.301526, relative error: 2.722196e-08\n",
      "numerical: -1.280046 analytic: -1.280047, relative error: 6.581328e-08\n",
      "numerical: 1.117282 analytic: 1.117282, relative error: 3.331006e-08\n",
      "numerical: 2.087093 analytic: 2.087093, relative error: 1.634529e-08\n",
      "numerical: 2.388954 analytic: 2.388954, relative error: 2.428664e-08\n",
      "numerical: -0.871376 analytic: -0.871376, relative error: 1.366932e-08\n",
      "numerical: -1.758173 analytic: -1.758173, relative error: 1.151906e-08\n",
      "numerical: 2.364012 analytic: 2.364011, relative error: 3.668688e-08\n",
      "numerical: 0.627246 analytic: 0.620709, relative error: 5.238106e-03\n",
      "numerical: 3.620783 analytic: 3.595112, relative error: 3.557544e-03\n",
      "numerical: -0.867994 analytic: -0.871672, relative error: 2.114153e-03\n",
      "numerical: 2.697138 analytic: 2.701199, relative error: 7.522146e-04\n",
      "numerical: 1.758715 analytic: 1.764814, relative error: 1.730932e-03\n",
      "numerical: -0.735071 analytic: -0.718623, relative error: 1.131485e-02\n",
      "numerical: 0.763744 analytic: 0.775247, relative error: 7.474815e-03\n",
      "numerical: 4.200918 analytic: 4.192972, relative error: 9.466086e-04\n",
      "numerical: 1.577251 analytic: 1.585093, relative error: 2.479720e-03\n",
      "numerical: -0.965873 analytic: -0.968605, relative error: 1.412023e-03\n"
     ]
    }
   ],
   "source": [
    "# Complete the implementation of softmax_loss_naive and implement a (naive)\n",
    "# version of the gradient that uses nested loops.\n",
    "loss, grad = softmax_loss_naive(W, X_dev, y_dev, 0.0)\n",
    "\n",
    "# As we did for the SVM, use numeric gradient checking as a debugging tool.\n",
    "# The numeric gradient should be close to the analytic gradient.\n",
    "from cs231n.gradient_check import grad_check_sparse\n",
    "f = lambda w: softmax_loss_naive(w, X_dev, y_dev, 0.0)[0]\n",
    "grad_numerical = grad_check_sparse(f, W, grad, 10)\n",
    "\n",
    "# similar to SVM case, do another gradient check with regularization\n",
    "loss, grad = softmax_loss_naive(W, X_dev, y_dev, 5e1)\n",
    "f = lambda w: softmax_loss_naive(w, X_dev, y_dev, 5e1)[0]\n",
    "grad_numerical = grad_check_sparse(f, W, grad, 10)"
   ]
  },
  {
   "cell_type": "code",
   "execution_count": 16,
   "metadata": {},
   "outputs": [
    {
     "name": "stdout",
     "output_type": "stream",
     "text": [
      "naive loss: 2.415738e+00 computed in 0.101884s\n",
      "vectorized loss: 2.415738e+00 computed in 0.002858s\n",
      "Loss difference: 0.000000\n",
      "Gradient difference: 0.000000\n"
     ]
    }
   ],
   "source": [
    "# Now that we have a naive implementation of the softmax loss function and its gradient,\n",
    "# implement a vectorized version in softmax_loss_vectorized.\n",
    "# The two versions should compute the same results, but the vectorized version should be\n",
    "# much faster.\n",
    "tic = time.time()\n",
    "loss_naive, grad_naive = softmax_loss_naive(W, X_dev, y_dev, 0.000005)\n",
    "toc = time.time()\n",
    "print('naive loss: %e computed in %fs' % (loss_naive, toc - tic))\n",
    "\n",
    "from cs231n.classifiers.softmax import softmax_loss_vectorized\n",
    "tic = time.time()\n",
    "loss_vectorized, grad_vectorized = softmax_loss_vectorized(W, X_dev, y_dev, 0.000005)\n",
    "toc = time.time()\n",
    "print('vectorized loss: %e computed in %fs' % (loss_vectorized, toc - tic))\n",
    "\n",
    "# As we did for the SVM, we use the Frobenius norm to compare the two versions\n",
    "# of the gradient.\n",
    "grad_difference = np.linalg.norm(grad_naive - grad_vectorized, ord='fro')\n",
    "print('Loss difference: %f' % np.abs(loss_naive - loss_vectorized))\n",
    "print('Gradient difference: %f' % grad_difference)"
   ]
  },
  {
   "cell_type": "code",
   "execution_count": 17,
   "metadata": {},
   "outputs": [
    {
     "name": "stdout",
     "output_type": "stream",
     "text": [
      "best_lr,best_rs,best_val 1.34444444444e-06 1500.0 0.41\n",
      "lr 3.000000e-07 reg 1.500000e+03 train accuracy: 0.371592 val accuracy: 0.374000\n",
      "lr 3.000000e-07 reg 6.888889e+03 train accuracy: 0.367429 val accuracy: 0.382000\n",
      "lr 3.000000e-07 reg 1.227778e+04 train accuracy: 0.345286 val accuracy: 0.357000\n",
      "lr 3.000000e-07 reg 1.766667e+04 train accuracy: 0.340020 val accuracy: 0.355000\n",
      "lr 3.000000e-07 reg 2.305556e+04 train accuracy: 0.335449 val accuracy: 0.356000\n",
      "lr 3.000000e-07 reg 2.844444e+04 train accuracy: 0.326551 val accuracy: 0.341000\n",
      "lr 3.000000e-07 reg 3.383333e+04 train accuracy: 0.322490 val accuracy: 0.330000\n",
      "lr 3.000000e-07 reg 3.922222e+04 train accuracy: 0.319061 val accuracy: 0.334000\n",
      "lr 3.000000e-07 reg 4.461111e+04 train accuracy: 0.305204 val accuracy: 0.325000\n",
      "lr 3.000000e-07 reg 5.000000e+04 train accuracy: 0.303000 val accuracy: 0.325000\n",
      "lr 8.222222e-07 reg 1.500000e+03 train accuracy: 0.395000 val accuracy: 0.404000\n",
      "lr 8.222222e-07 reg 6.888889e+03 train accuracy: 0.359265 val accuracy: 0.359000\n",
      "lr 8.222222e-07 reg 1.227778e+04 train accuracy: 0.345959 val accuracy: 0.362000\n",
      "lr 8.222222e-07 reg 1.766667e+04 train accuracy: 0.331429 val accuracy: 0.343000\n",
      "lr 8.222222e-07 reg 2.305556e+04 train accuracy: 0.315327 val accuracy: 0.324000\n",
      "lr 8.222222e-07 reg 2.844444e+04 train accuracy: 0.299082 val accuracy: 0.309000\n",
      "lr 8.222222e-07 reg 3.383333e+04 train accuracy: 0.315980 val accuracy: 0.324000\n",
      "lr 8.222222e-07 reg 3.922222e+04 train accuracy: 0.314531 val accuracy: 0.317000\n",
      "lr 8.222222e-07 reg 4.461111e+04 train accuracy: 0.299122 val accuracy: 0.312000\n",
      "lr 8.222222e-07 reg 5.000000e+04 train accuracy: 0.302857 val accuracy: 0.312000\n",
      "lr 1.344444e-06 reg 1.500000e+03 train accuracy: 0.395204 val accuracy: 0.410000\n",
      "lr 1.344444e-06 reg 6.888889e+03 train accuracy: 0.353306 val accuracy: 0.371000\n",
      "lr 1.344444e-06 reg 1.227778e+04 train accuracy: 0.336061 val accuracy: 0.348000\n",
      "lr 1.344444e-06 reg 1.766667e+04 train accuracy: 0.332429 val accuracy: 0.325000\n",
      "lr 1.344444e-06 reg 2.305556e+04 train accuracy: 0.321224 val accuracy: 0.338000\n",
      "lr 1.344444e-06 reg 2.844444e+04 train accuracy: 0.308061 val accuracy: 0.332000\n",
      "lr 1.344444e-06 reg 3.383333e+04 train accuracy: 0.287224 val accuracy: 0.288000\n",
      "lr 1.344444e-06 reg 3.922222e+04 train accuracy: 0.288837 val accuracy: 0.292000\n",
      "lr 1.344444e-06 reg 4.461111e+04 train accuracy: 0.299612 val accuracy: 0.302000\n",
      "lr 1.344444e-06 reg 5.000000e+04 train accuracy: 0.293469 val accuracy: 0.301000\n",
      "lr 1.866667e-06 reg 1.500000e+03 train accuracy: 0.379980 val accuracy: 0.377000\n",
      "lr 1.866667e-06 reg 6.888889e+03 train accuracy: 0.329612 val accuracy: 0.349000\n",
      "lr 1.866667e-06 reg 1.227778e+04 train accuracy: 0.336980 val accuracy: 0.351000\n",
      "lr 1.866667e-06 reg 1.766667e+04 train accuracy: 0.296184 val accuracy: 0.305000\n",
      "lr 1.866667e-06 reg 2.305556e+04 train accuracy: 0.309184 val accuracy: 0.320000\n",
      "lr 1.866667e-06 reg 2.844444e+04 train accuracy: 0.317204 val accuracy: 0.328000\n",
      "lr 1.866667e-06 reg 3.383333e+04 train accuracy: 0.293673 val accuracy: 0.316000\n",
      "lr 1.866667e-06 reg 3.922222e+04 train accuracy: 0.285612 val accuracy: 0.285000\n",
      "lr 1.866667e-06 reg 4.461111e+04 train accuracy: 0.263714 val accuracy: 0.282000\n",
      "lr 1.866667e-06 reg 5.000000e+04 train accuracy: 0.295102 val accuracy: 0.309000\n",
      "lr 2.388889e-06 reg 1.500000e+03 train accuracy: 0.368735 val accuracy: 0.369000\n",
      "lr 2.388889e-06 reg 6.888889e+03 train accuracy: 0.337816 val accuracy: 0.367000\n",
      "lr 2.388889e-06 reg 1.227778e+04 train accuracy: 0.317694 val accuracy: 0.317000\n",
      "lr 2.388889e-06 reg 1.766667e+04 train accuracy: 0.312592 val accuracy: 0.345000\n",
      "lr 2.388889e-06 reg 2.305556e+04 train accuracy: 0.322306 val accuracy: 0.349000\n",
      "lr 2.388889e-06 reg 2.844444e+04 train accuracy: 0.277980 val accuracy: 0.284000\n",
      "lr 2.388889e-06 reg 3.383333e+04 train accuracy: 0.294061 val accuracy: 0.310000\n",
      "lr 2.388889e-06 reg 3.922222e+04 train accuracy: 0.268347 val accuracy: 0.292000\n",
      "lr 2.388889e-06 reg 4.461111e+04 train accuracy: 0.286918 val accuracy: 0.298000\n",
      "lr 2.388889e-06 reg 5.000000e+04 train accuracy: 0.276694 val accuracy: 0.292000\n",
      "lr 2.911111e-06 reg 1.500000e+03 train accuracy: 0.380714 val accuracy: 0.392000\n",
      "lr 2.911111e-06 reg 6.888889e+03 train accuracy: 0.326551 val accuracy: 0.336000\n",
      "lr 2.911111e-06 reg 1.227778e+04 train accuracy: 0.318041 val accuracy: 0.319000\n",
      "lr 2.911111e-06 reg 1.766667e+04 train accuracy: 0.312000 val accuracy: 0.314000\n",
      "lr 2.911111e-06 reg 2.305556e+04 train accuracy: 0.298367 val accuracy: 0.309000\n",
      "lr 2.911111e-06 reg 2.844444e+04 train accuracy: 0.290816 val accuracy: 0.308000\n",
      "lr 2.911111e-06 reg 3.383333e+04 train accuracy: 0.268306 val accuracy: 0.301000\n",
      "lr 2.911111e-06 reg 3.922222e+04 train accuracy: 0.295878 val accuracy: 0.288000\n",
      "lr 2.911111e-06 reg 4.461111e+04 train accuracy: 0.276184 val accuracy: 0.285000\n",
      "lr 2.911111e-06 reg 5.000000e+04 train accuracy: 0.282306 val accuracy: 0.299000\n",
      "lr 3.433333e-06 reg 1.500000e+03 train accuracy: 0.371857 val accuracy: 0.388000\n",
      "lr 3.433333e-06 reg 6.888889e+03 train accuracy: 0.341429 val accuracy: 0.348000\n",
      "lr 3.433333e-06 reg 1.227778e+04 train accuracy: 0.328122 val accuracy: 0.332000\n",
      "lr 3.433333e-06 reg 1.766667e+04 train accuracy: 0.279347 val accuracy: 0.270000\n",
      "lr 3.433333e-06 reg 2.305556e+04 train accuracy: 0.276633 val accuracy: 0.287000\n",
      "lr 3.433333e-06 reg 2.844444e+04 train accuracy: 0.262347 val accuracy: 0.277000\n",
      "lr 3.433333e-06 reg 3.383333e+04 train accuracy: 0.281122 val accuracy: 0.309000\n",
      "lr 3.433333e-06 reg 3.922222e+04 train accuracy: 0.259653 val accuracy: 0.254000\n",
      "lr 3.433333e-06 reg 4.461111e+04 train accuracy: 0.253959 val accuracy: 0.264000\n",
      "lr 3.433333e-06 reg 5.000000e+04 train accuracy: 0.245020 val accuracy: 0.253000\n",
      "lr 3.955556e-06 reg 1.500000e+03 train accuracy: 0.353673 val accuracy: 0.350000\n",
      "lr 3.955556e-06 reg 6.888889e+03 train accuracy: 0.307673 val accuracy: 0.316000\n",
      "lr 3.955556e-06 reg 1.227778e+04 train accuracy: 0.320531 val accuracy: 0.328000\n",
      "lr 3.955556e-06 reg 1.766667e+04 train accuracy: 0.266469 val accuracy: 0.264000\n",
      "lr 3.955556e-06 reg 2.305556e+04 train accuracy: 0.285694 val accuracy: 0.282000\n",
      "lr 3.955556e-06 reg 2.844444e+04 train accuracy: 0.269469 val accuracy: 0.304000\n",
      "lr 3.955556e-06 reg 3.383333e+04 train accuracy: 0.231306 val accuracy: 0.254000\n",
      "lr 3.955556e-06 reg 3.922222e+04 train accuracy: 0.253816 val accuracy: 0.249000\n",
      "lr 3.955556e-06 reg 4.461111e+04 train accuracy: 0.239408 val accuracy: 0.255000\n",
      "lr 3.955556e-06 reg 5.000000e+04 train accuracy: 0.253367 val accuracy: 0.248000\n",
      "lr 4.477778e-06 reg 1.500000e+03 train accuracy: 0.332837 val accuracy: 0.336000\n",
      "lr 4.477778e-06 reg 6.888889e+03 train accuracy: 0.323878 val accuracy: 0.312000\n",
      "lr 4.477778e-06 reg 1.227778e+04 train accuracy: 0.262327 val accuracy: 0.272000\n",
      "lr 4.477778e-06 reg 1.766667e+04 train accuracy: 0.225592 val accuracy: 0.224000\n",
      "lr 4.477778e-06 reg 2.305556e+04 train accuracy: 0.253204 val accuracy: 0.259000\n",
      "lr 4.477778e-06 reg 2.844444e+04 train accuracy: 0.206286 val accuracy: 0.203000\n",
      "lr 4.477778e-06 reg 3.383333e+04 train accuracy: 0.235082 val accuracy: 0.238000\n",
      "lr 4.477778e-06 reg 3.922222e+04 train accuracy: 0.244082 val accuracy: 0.237000\n",
      "lr 4.477778e-06 reg 4.461111e+04 train accuracy: 0.187286 val accuracy: 0.188000\n",
      "lr 4.477778e-06 reg 5.000000e+04 train accuracy: 0.195531 val accuracy: 0.202000\n",
      "lr 5.000000e-06 reg 1.500000e+03 train accuracy: 0.334653 val accuracy: 0.346000\n",
      "lr 5.000000e-06 reg 6.888889e+03 train accuracy: 0.296102 val accuracy: 0.312000\n",
      "lr 5.000000e-06 reg 1.227778e+04 train accuracy: 0.286878 val accuracy: 0.295000\n",
      "lr 5.000000e-06 reg 1.766667e+04 train accuracy: 0.244878 val accuracy: 0.244000\n",
      "lr 5.000000e-06 reg 2.305556e+04 train accuracy: 0.200633 val accuracy: 0.233000\n",
      "lr 5.000000e-06 reg 2.844444e+04 train accuracy: 0.184204 val accuracy: 0.191000\n",
      "lr 5.000000e-06 reg 3.383333e+04 train accuracy: 0.208694 val accuracy: 0.208000\n",
      "lr 5.000000e-06 reg 3.922222e+04 train accuracy: 0.195306 val accuracy: 0.201000\n",
      "lr 5.000000e-06 reg 4.461111e+04 train accuracy: 0.130490 val accuracy: 0.132000\n",
      "lr 5.000000e-06 reg 5.000000e+04 train accuracy: 0.165551 val accuracy: 0.152000\n",
      "best validation accuracy achieved during cross-validation: 0.410000\n"
     ]
    }
   ],
   "source": [
    "# Use the validation set to tune hyperparameters (regularization strength and\n",
    "# learning rate). You should experiment with different ranges for the learning\n",
    "# rates and regularization strengths; if you are careful you should be able to\n",
    "# get a classification accuracy of over 0.35 on the validation set.\n",
    "from cs231n.classifiers import Softmax\n",
    "results = {}\n",
    "best_val = -1\n",
    "best_softmax = None\n",
    "learning_rates = [3e-7, 5e-6]\n",
    "regularization_strengths = [1.5e3, 5e4]\n",
    "\n",
    "################################################################################\n",
    "# TODO:                                                                        #\n",
    "# Use the validation set to set the learning rate and regularization strength. #\n",
    "# This should be identical to the validation that you did for the softmax; save    #\n",
    "# the best trained softmax classifer in best_softmax.                          #\n",
    "################################################################################\n",
    "lr_vals = np.linspace(learning_rates[0], learning_rates[1], num=10, endpoint=True)\n",
    "rs_vals = np.linspace(regularization_strengths[0], regularization_strengths[1], num=10, endpoint=True)\n",
    "#rs_vals = np.linspace(np.log(regularization_strengths[0]),np.log(regularization_strengths[1]), num=10, endpoint=True)\n",
    "#rs_vals = np.exp(rs_vals)\n",
    "#print(lr_vals)\n",
    "#print(rs_vals)\n",
    "nit_small = 1500\n",
    "nit_large = 10*nit_small\n",
    "for lr in lr_vals:\n",
    "    for rs in rs_vals:\n",
    "        softmax = Softmax()\n",
    "        loss_hist = softmax.train(X_train, y_train, learning_rate=lr, reg=rs,\n",
    "                      num_iters=nit_small, verbose=False)\n",
    "        y_train_pred = softmax.predict(X_train)\n",
    "        trn_acc = np.mean(y_train == y_train_pred)\n",
    "        y_val_pred = softmax.predict(X_val)\n",
    "        val_acc = np.mean(y_val == y_val_pred)\n",
    "        results[(lr, rs)] = (trn_acc, val_acc)\n",
    "        if val_acc > best_val:\n",
    "            best_val = val_acc\n",
    "            best_softmax = softmax\n",
    "            best_lr = lr\n",
    "            best_rs = rs\n",
    "\n",
    "print(\"best_lr,best_rs,best_val\", best_lr, best_rs, best_val)\n",
    "#pass\n",
    "################################################################################\n",
    "#                              END OF YOUR CODE                                #\n",
    "################################################################################\n",
    "    \n",
    "# Print out results.\n",
    "for lr, reg in sorted(results):\n",
    "    train_accuracy, val_accuracy = results[(lr, reg)]\n",
    "    print('lr %e reg %e train accuracy: %f val accuracy: %f' % (\n",
    "                lr, reg, train_accuracy, val_accuracy))\n",
    "    \n",
    "print('best validation accuracy achieved during cross-validation: %f' % best_val)"
   ]
  },
  {
   "cell_type": "code",
   "execution_count": 18,
   "metadata": {},
   "outputs": [
    {
     "name": "stdout",
     "output_type": "stream",
     "text": [
      "softmax on raw pixels final test set accuracy: 0.391000\n"
     ]
    }
   ],
   "source": [
    "# evaluate on test set\n",
    "# Evaluate the best softmax on test set\n",
    "y_test_pred = best_softmax.predict(X_test)\n",
    "test_accuracy = np.mean(y_test == y_test_pred)\n",
    "print('softmax on raw pixels final test set accuracy: %f' % (test_accuracy, ))"
   ]
  },
  {
   "cell_type": "code",
   "execution_count": 19,
   "metadata": {},
   "outputs": [
    {
     "data": {
      "image/png": "[encoded data removed]",
      "text/plain": [
       "<matplotlib.figure.Figure at 0x7f76f8b448d0>"
      ]
     },
     "metadata": {},
     "output_type": "display_data"
    }
   ],
   "source": [
    "# Visualize the learned weights for each class\n",
    "w = best_softmax.W[:-1,:] # strip out the bias\n",
    "w = w.reshape(32, 32, 3, 10)\n",
    "\n",
    "w_min, w_max = np.min(w), np.max(w)\n",
    "\n",
    "classes = ['plane', 'car', 'bird', 'cat', 'deer', 'dog', 'frog', 'horse', 'ship', 'truck']\n",
    "for i in range(10):\n",
    "    plt.subplot(2, 5, i + 1)\n",
    "    \n",
    "    # Rescale the weights to be between 0 and 255\n",
    "    wimg = 255.0 * (w[:, :, :, i].squeeze() - w_min) / (w_max - w_min)\n",
    "    plt.imshow(wimg.astype('uint8'))\n",
    "    plt.axis('off')\n",
    "    plt.title(classes[i])"
   ]
  },
  {
   "cell_type": "code",
   "execution_count": null,
   "metadata": {
    "collapsed": true
   },
   "outputs": [],
   "source": []
  }
 ],
 "metadata": {
  "kernelspec": {
   "display_name": "Python 2",
   "language": "python",
   "name": "python2"
  },
  "language_info": {
   "codemirror_mode": {
    "name": "ipython",
    "version": 2
   },
   "file_extension": ".py",
   "mimetype": "text/x-python",
   "name": "python",
   "nbconvert_exporter": "python",
   "pygments_lexer": "ipython2",
   "version": "2.7.14"
  }
 },
 "nbformat": 4,
 "nbformat_minor": 1
}
